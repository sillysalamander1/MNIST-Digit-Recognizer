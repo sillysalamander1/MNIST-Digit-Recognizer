{
 "cells": [
  {
   "cell_type": "code",
   "execution_count": 2,
   "metadata": {},
   "outputs": [],
   "source": [
    "import torch\n",
    "import torchvision.transforms as transforms\n",
    "import pandas as pd\n",
    "import numpy as np\n",
    "from torch.utils.data import Dataset, DataLoader\n",
    "import torch.nn as nn\n",
    "import torch.nn.functional as F\n",
    "import torch.optim as optim\n",
    "from torchvision import transforms\n",
    "\n"
   ]
  },
  {
   "cell_type": "code",
   "execution_count": 3,
   "metadata": {},
   "outputs": [],
   "source": [
    "\n",
    "\n",
    "class CustomDataSet(Dataset):\n",
    "    def __init__(self, filepath,test=False,transform=None):\n",
    "        self.data = pd.read_csv(filepath)\n",
    "        self.transform = transform\n",
    "        self.test = test\n",
    "    def __getitem__(self, index):\n",
    "        if self.test ==True:\n",
    "\n",
    "            #W X H X C\n",
    "            image = self.data.iloc[index,0:].values.astype(np.uint8).reshape(28,28,1)\n",
    "            label = 0 #dummy labe\n",
    "        else:\n",
    "            image = self.data.iloc[index,1:].values.astype(np.uint8).reshape(28,28,1)\n",
    "            label = self.data.iloc[index,0]\n",
    "        if self.transform is not None:\n",
    "            image = self.transform(image)\n",
    "        return image, label\n",
    "\n",
    "    def __len__(self):\n",
    "        return len(self.data)"
   ]
  },
  {
   "cell_type": "code",
   "execution_count": 4,
   "metadata": {},
   "outputs": [],
   "source": [
    "mean, std = 0.5,0.5\n",
    "\n",
    "transform = transforms.Compose([transforms.ToTensor(),transforms.Normalize(mean, std)])\n",
    "\n",
    "trainDataSet = CustomDataSet('digit-recognizer/train.csv',transform = transform)\n",
    "trainLoader = DataLoader(trainDataSet, batch_size=64, shuffle=True)\n",
    "\n",
    "testDataSet = CustomDataSet('digit-recognizer/test.csv',transform = transform,test=True)\n",
    "testLoader = DataLoader(testDataSet, batch_size=28000, shuffle=False)\n"
   ]
  },
  {
   "cell_type": "code",
   "execution_count": 13,
   "metadata": {},
   "outputs": [],
   "source": [
    "## Creating NN Model\n",
    "\n",
    "class NET(nn.Module):\n",
    "    def __init__(self):\n",
    "        super(NET, self).__init__()\n",
    "        self.conv1 = nn.Conv2d(in_channels=1, out_channels=10, kernel_size=5)\n",
    "        self.conv2 = nn.Conv2d(in_channels=10, out_channels=20, kernel_size=5)\n",
    "        self.drop = nn.Dropout2d()\n",
    "        self.fc1 = nn.Linear(320, 50)\n",
    "        self.fc2 = nn.Linear(50, 10)\n",
    "    \n",
    "    def forward(self, x):\n",
    "        x = F.relu(F.max_pool2d(self.conv1(x),2))\n",
    "        x = self.drop(self.conv2(x))\n",
    "        x = F.relu(F.max_pool2d(x,2))\n",
    "        x = x.view(-1, 320)\n",
    "        x = F.relu(self.fc1(x))\n",
    "        x = self.fc2(x)\n",
    "        x = F.log_softmax(x, dim=1)\n",
    "        return x\n",
    "    \n",
    "device = torch.device(\"cuda\" if torch.cuda.is_available() else \"cpu\")\n",
    "\n",
    "\n",
    "model = NET().to(device)"
   ]
  },
  {
   "cell_type": "code",
   "execution_count": 14,
   "metadata": {},
   "outputs": [],
   "source": [
    "## Configure Loss and Optimizer\n",
    "# Loss and optimizer\n",
    "criterion = nn.NLLLoss()\n",
    "learning_rate = 0.01\n",
    "optimizer = torch.optim.SGD(model.parameters(), lr=learning_rate)"
   ]
  },
  {
   "cell_type": "code",
   "execution_count": null,
   "metadata": {},
   "outputs": [],
   "source": [
    "## Training Loop\n",
    "from tqdm import tqdm\n",
    "\n",
    "NUM_EPOCHS = 30\n",
    "\n",
    "\n",
    "\n",
    "for epoch in range(NUM_EPOCHS):\n",
    "\n",
    "    cum_loss = 0\n",
    "    print(f\"Epoch {epoch+1} of {NUM_EPOCHS}\")\n",
    "    for (image,labels) in tqdm(trainLoader):\n",
    "        ## move batch to gpu\n",
    "        optimizer.zero_grad()\n",
    "        \n",
    "        image,labels = image.to(device),labels.to(device)\n",
    "\n",
    "\n",
    "        ## forward pass \n",
    "        Y = model(image)\n",
    "        loss = criterion(Y,labels)\n",
    "\n",
    "        ## backward pass\n",
    "        loss.backward()\n",
    "        optimizer.step()\n",
    "        cum_loss += loss.item()\n",
    "\n",
    "    print(\"Cumulative Loss: {}\".format(cum_loss/len(trainLoader)))\n",
    "\n",
    "torch.save(model.state_dict(), 'finalModels/tensor.pt')                                                                                     \n",
    "\n"
   ]
  },
  {
   "cell_type": "code",
   "execution_count": 31,
   "metadata": {},
   "outputs": [],
   "source": [
    "## Load Prediction\n",
    "\n",
    "model.load_state_dict(torch.load('finalModels/tensor.pt'))\n",
    "\n",
    "## Load Test Data\n",
    "\n",
    "test = testDataSet.__getitem__(7474)[0].to(device)\n",
    "\n",
    "Y = model(test)\n"
   ]
  },
  {
   "cell_type": "code",
   "execution_count": 32,
   "metadata": {},
   "outputs": [
    {
     "data": {
      "image/png": "[encoded data removed]",
      "text/plain": [
       "<Figure size 640x480 with 2 Axes>"
      ]
     },
     "metadata": {},
     "output_type": "display_data"
    }
   ],
   "source": [
    "import matplotlib.pyplot as plt\n",
    "import numpy as np\n",
    "\n",
    "tensor_data = test.cpu().detach().numpy()\n",
    "tensor_data = np.reshape(tensor_data,(28,28))\n",
    "\n",
    "plt.imshow(tensor_data,cmap = 'gray')\n",
    "plt.colorbar()\n",
    "plt.show()"
   ]
  }
 ],
 "metadata": {
  "kernelspec": {
   "display_name": "asdf",
   "language": "python",
   "name": "python3"
  },
  "language_info": {
   "codemirror_mode": {
    "name": "ipython",
    "version": 3
   },
   "file_extension": ".py",
   "mimetype": "text/x-python",
   "name": "python",
   "nbconvert_exporter": "python",
   "pygments_lexer": "ipython3",
   "version": "3.9.17"
  },
  "orig_nbformat": 4
 },
 "nbformat": 4,
 "nbformat_minor": 2
}
